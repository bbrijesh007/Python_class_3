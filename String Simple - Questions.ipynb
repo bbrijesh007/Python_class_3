{
 "cells": [
  {
   "cell_type": "markdown",
   "metadata": {},
   "source": [
    "# String Simple Questions"
   ]
  },
  {
   "cell_type": "code",
   "execution_count": 2,
   "metadata": {},
   "outputs": [
    {
     "name": "stdout",
     "output_type": "stream",
     "text": [
      "6\n"
     ]
    }
   ],
   "source": [
    "# 1. Write a Python program to calculate the length of a given string.\n",
    "#     Data:\n",
    "#         \"Baskar\"\n",
    "#     Expected Output:\n",
    "#         6\n",
    "Data=\"Baskar\"\n",
    "print(len(Data))     \n",
    "        "
   ]
  },
  {
   "cell_type": "code",
   "execution_count": 5,
   "metadata": {},
   "outputs": [
    {
     "name": "stdout",
     "output_type": "stream",
     "text": [
      "ython\n",
      "Pythn\n",
      "Pytho\n"
     ]
    }
   ],
   "source": [
    "# 2. Write a Python program to remove the character of the nth index from a given string. \n",
    "#     Data:\n",
    "#         \"Python\"\n",
    "#     Expected Output:\n",
    "#         ython\n",
    "#         Pyton\n",
    "#         Pytho\n",
    "    \n",
    "def remove_nth_char(s, n):\n",
    "    print(s[:n] + s[n+1:])\n",
    "data = \"Python\"\n",
    "remove_nth_char(data, 0)  \n",
    "remove_nth_char(data, 4)  \n",
    "remove_nth_char(data, 5)\n",
    "    "
   ]
  },
  {
   "cell_type": "code",
   "execution_count": null,
   "metadata": {},
   "outputs": [],
   "source": [
    "3. Write a Python program to interchange the first and last character of a given string.\n",
    "    Data:\n",
    "        'abcd'\n",
    "        '12345'\n",
    "    Expected Output:\n",
    "        dbca\n",
    "        52341\n",
    "        \n",
    "        \n",
    "        \n",
    "        "
   ]
  },
  {
   "cell_type": "code",
   "execution_count": 7,
   "metadata": {},
   "outputs": [
    {
     "name": "stdout",
     "output_type": "stream",
     "text": [
      "ace\n",
      "pto\n"
     ]
    }
   ],
   "source": [
    "# 4. Write a Python program to remove the values of the odd index from a given string.\n",
    "#     Data:\n",
    "#         'abcdef'\n",
    "#         'python'\n",
    "#     Expected Output:\n",
    "#         ace\n",
    "#         pto\n",
    "\n",
    "Data = ['abcdef', 'python']\n",
    "for s in Data:\n",
    "    print(s[::2])\n",
    "        "
   ]
  },
  {
   "cell_type": "code",
   "execution_count": 15,
   "metadata": {},
   "outputs": [
    {
     "name": "stdin",
     "output_type": "stream",
     "text": [
      "Whats your favourite language:  Tamil\n"
     ]
    },
    {
     "name": "stdout",
     "output_type": "stream",
     "text": [
      "My favourite language is  TAMIL\n",
      "My favourite language is  tamil\n"
     ]
    }
   ],
   "source": [
    "# 5. Write a Python program to get input from the user and print the input back in uppercase.\n",
    "#     Data:\n",
    "#         Whats your favourite language: Tamil\n",
    "#     Expected Output:\n",
    "#         My favourite language is  TAMIL\n",
    "#         My favourite language is  tamil\n",
    "        \n",
    "data = input(\"Whats your favourite language: \")\n",
    "print(\"My favourite language is \", data.upper())\n",
    "print(\"My favourite language is \", data.lower())"
   ]
  },
  {
   "cell_type": "code",
   "execution_count": 18,
   "metadata": {},
   "outputs": [
    {
     "name": "stdout",
     "output_type": "stream",
     "text": [
      "black,green,red,white\n"
     ]
    }
   ],
   "source": [
    "# 6. Write a Python program that accepts a comma separated sequence of words as input and print only the unique strings in sorted.\n",
    "#     Data:\n",
    "#         Words : red, white, black, red, green, black\n",
    "#     Expected Output:\n",
    "#         black, green, red, w hite,red\n",
    " \n",
    "words = [\"red\", \"white\", \"black\", \"red\", \"green\", \"black\"]\n",
    "unique_words = sorted(set(words))\n",
    "print(','.join(word.strip() for word in unique_words))"
   ]
  },
  {
   "cell_type": "code",
   "execution_count": 19,
   "metadata": {},
   "outputs": [
    {
     "name": "stdout",
     "output_type": "stream",
     "text": [
      "<i>Python</i>\n",
      "<b>Python Tutorial</b>\n"
     ]
    }
   ],
   "source": [
    "# 7. Write a Python function to create the HTML string with tags around the string.\n",
    "#     Data:\n",
    "#         ('i', 'Python')\n",
    "#         ('b', 'Python Tutorial')\n",
    "#     Expected Output:\n",
    "#         <i>Python</i>\n",
    "#         <b>Python Tutorial </b>\n",
    "\n",
    "def create_html_string(tag, text):\n",
    "    return f\"<{tag}>{text}</{tag}>\"\n",
    "\n",
    "data = [('i', 'Python'), ('b', 'Python Tutorial')]\n",
    "for tag, text in data:\n",
    "    print(create_html_string(tag, text))          "
   ]
  },
  {
   "cell_type": "code",
   "execution_count": 20,
   "metadata": {},
   "outputs": [
    {
     "name": "stdout",
     "output_type": "stream",
     "text": [
      "[[Python]]\n",
      "{{PHP}}\n"
     ]
    }
   ],
   "source": [
    "# 8. Write a Python function to insert the second string in the middle of a first string.\n",
    "#     Data:\n",
    "#         ('[[]]', 'Python')\n",
    "#         ('{{}}', 'PHP')\n",
    "#     Expected Output:\n",
    "#         [[Python]]\n",
    "#         {{PHP}}\n",
    "def insert_in_middle(wrapper, word):\n",
    "    return wrapper[:len(wrapper)//2] + word + wrapper[len(wrapper)//2:]\n",
    "\n",
    "print(insert_in_middle('[[]]', 'Python'))\n",
    "print(insert_in_middle('{{}}', 'PHP'))        \n",
    "        \n",
    "        "
   ]
  },
  {
   "cell_type": "code",
   "execution_count": 21,
   "metadata": {},
   "outputs": [
    {
     "name": "stdout",
     "output_type": "stream",
     "text": [
      "onononon\n"
     ]
    }
   ],
   "source": [
    "# 9. Write a Python function to get a string made of 4 copies of the last two characters of a specified string \n",
    "#     (length must be at least 2).\n",
    "#     Data:\n",
    "#         'Python'\n",
    "#     Expected Output:\n",
    "#         onononon\n",
    "\n",
    "def repeat_last_two(s):\n",
    "    if len(s) < 2:\n",
    "        raise ValueError(\"String must have at least 2 characters\")\n",
    "    return s[-2:] * 4\n",
    "result = repeat_last_two('Python')\n",
    "print(result)"
   ]
  },
  {
   "cell_type": "code",
   "execution_count": 22,
   "metadata": {},
   "outputs": [
    {
     "name": "stdout",
     "output_type": "stream",
     "text": [
      "ipy\n",
      "pyt\n"
     ]
    }
   ],
   "source": [
    "# 10. Write a Python function to get a string made of its first three characters of a specified string. \n",
    "#     If the length of the string is less than 3 then return the original string.\n",
    "#     Data:\n",
    "#         'ipy'\n",
    "#         'python'\n",
    "#     Expected Output:\n",
    "#         ipy\n",
    "#         pyt\n",
    "def first_three_chars(s):\n",
    "    return s if len(s) < 3 else s[:3]\n",
    "\n",
    "print(first_three_chars('ipy'))\n",
    "print(first_three_chars('python'))    \n",
    "        "
   ]
  },
  {
   "cell_type": "code",
   "execution_count": 24,
   "metadata": {},
   "outputs": [
    {
     "name": "stdout",
     "output_type": "stream",
     "text": [
      "dcba\n",
      "python\n"
     ]
    }
   ],
   "source": [
    "# 11. Write a Python function to reverse a string if its length is a multiple of 4.\n",
    "#     Data:\n",
    "#         'abcd'\n",
    "#         'python'\n",
    "#     Expected Output:\n",
    "#         dcba\n",
    "#         python\n",
    "        \n",
    "s = 'abcd'\n",
    "print(s[::-1] if len(s) % 4 == 0 else s)\n",
    "\n",
    "s = 'python'\n",
    "print(s[::-1] if len(s) % 4 == 0 else s)     \n",
    "        "
   ]
  },
  {
   "cell_type": "code",
   "execution_count": 25,
   "metadata": {},
   "outputs": [
    {
     "name": "stdout",
     "output_type": "stream",
     "text": [
      "https://www.aidinasaur.com/python-exercises\n",
      "https://www.aidinasaur.com\n"
     ]
    }
   ],
   "source": [
    "# 12. Write a Python program to get the last part of a string before a specified character.\n",
    "#     Data:\n",
    "#         str1 = 'https://www.aidinasaur.com/python-exercises/string'\n",
    "#     Expected Output:\n",
    "#         https://www.aidinasaur.com/python-exercises\n",
    "#         https://www.aidinasaur.com/python\n",
    "            \n",
    "str1 = 'https://www.aidinasaur.com/python-exercises/string'\n",
    "print(str1.rsplit('/', 1)[0])\n",
    "print(str1.rsplit('/', 2)[0])                    "
   ]
  },
  {
   "cell_type": "code",
   "execution_count": 26,
   "metadata": {},
   "outputs": [
    {
     "name": "stdout",
     "output_type": "stream",
     "text": [
      "['a', 'a', 'a', 'd', 'i', 'i', 'n', 'r', 's', 'u']\n"
     ]
    }
   ],
   "source": [
    "# 13. Write a Python program to sort a string lexicographically.\n",
    "#     Data:\n",
    "#         aidinasaur\n",
    "#     Expected Output: \n",
    "#         ['a', 'a', 'a', 'd', 'i', 'i', 'n', 'r', 's', 'u']\n",
    "data = \"aidinasaur\"\n",
    "sorted_chars = sorted(data)\n",
    "print(sorted_chars)        \n",
    "    "
   ]
  },
  {
   "cell_type": "code",
   "execution_count": 27,
   "metadata": {},
   "outputs": [
    {
     "name": "stdout",
     "output_type": "stream",
     "text": [
      "Python Exercises\n",
      "\n",
      "Python Exercises\n"
     ]
    }
   ],
   "source": [
    "# 14. Write a Python program to remove a newline in Python.\n",
    "#     Data:\n",
    "#         'Python Exercises\\n'\n",
    "#     Expected Output: \n",
    "#         Python Exercises\n",
    "\n",
    "#         Python Exercises\n",
    "        \n",
    "data = 'Python Exercises\\n'\n",
    "result = data.rstrip('\\n')\n",
    "print(result)\n",
    "print()\n",
    "print(result)             \n",
    "        "
   ]
  },
  {
   "cell_type": "code",
   "execution_count": 28,
   "metadata": {},
   "outputs": [
    {
     "name": "stdout",
     "output_type": "stream",
     "text": [
      "True\n"
     ]
    }
   ],
   "source": [
    "# 15. Write a Python program to check whether a string starts with specified character.\n",
    "#     Data:\n",
    "#         aidinasaur.com\n",
    "#     Expected Output:\n",
    "#         True\n",
    "data = \"aidinasaur.com\"\n",
    "specified_char = \"a\"\n",
    "result = data.startswith(specified_char)\n",
    "print(result)       "
   ]
  },
  {
   "cell_type": "code",
   "execution_count": 29,
   "metadata": {},
   "outputs": [
    {
     "name": "stdout",
     "output_type": "stream",
     "text": [
      "2\n"
     ]
    }
   ],
   "source": [
    "# 16. Write a Python program to count the number of occurrences of a substring in a string.\n",
    "#     Data:\n",
    "#         \"Word to publish Word docs as web pages\"\n",
    "#         count = \"word\"\n",
    "#     Expected Output:\n",
    "#         2\n",
    "text = \"Word to publish Word docs as web pages\"\n",
    "substring = \"word\"\n",
    "count = text.lower().count(substring.lower())\n",
    "print(count)   "
   ]
  },
  {
   "cell_type": "code",
   "execution_count": 30,
   "metadata": {},
   "outputs": [
    {
     "name": "stdout",
     "output_type": "stream",
     "text": [
      "fedcba\n",
      ".sesicrexE nohtyP\n"
     ]
    }
   ],
   "source": [
    "# 17. Write a Python program to reverse a string.\n",
    "#     Data:\n",
    "#         \"abcdef\"\n",
    "#         \"Python Exercises.\"\n",
    "#     Expected Output:\n",
    "#         fedcba\n",
    "#         .sesicrexE nohtyP\n",
    "\n",
    "def reverse_string(s):\n",
    "    return s[::-1]\n",
    "\n",
    "data = [\n",
    "    \"abcdef\",\n",
    "    \"Python Exercises.\"\n",
    "]\n",
    "\n",
    "for item in data:\n",
    "    print(reverse_string(item))    "
   ]
  },
  {
   "cell_type": "code",
   "execution_count": 31,
   "metadata": {},
   "outputs": [
    {
     "name": "stdout",
     "output_type": "stream",
     "text": [
      "aidiNASAUR.COM\n"
     ]
    }
   ],
   "source": [
    "# 18. Write a Python program to lowercase first n characters in a string.\n",
    "#     Data:\n",
    "#         \"AIDINASAUR.COM\"\n",
    "#     Expected Output:  \n",
    "#         aidiNASAUR.COM\n",
    "\n",
    "def lowercase_first_n(s, n):\n",
    "    return s[:n].lower() + s[n:]\n",
    "text = \"AIDINASAUR.COM\"\n",
    "n = 4\n",
    "result = lowercase_first_n(text, n)\n",
    "print(result)     "
   ]
  },
  {
   "cell_type": "code",
   "execution_count": 32,
   "metadata": {},
   "outputs": [
    {
     "name": "stdout",
     "output_type": "stream",
     "text": [
      "32,054.23\n"
     ]
    }
   ],
   "source": [
    "# 19. Write a Python program to swap comma and dot in a string.\n",
    "#     Data:\n",
    "#         \"32.054,23\"\n",
    "#     Expected Output:\n",
    "#         \"32,054.23\"\n",
    "        \n",
    "data = \"32.054,23\"\n",
    "swapped = data.replace('.', '#').replace(',', '.').replace('#', ',')\n",
    "print(swapped)     "
   ]
  },
  {
   "cell_type": "code",
   "execution_count": 33,
   "metadata": {},
   "outputs": [
    {
     "name": "stdout",
     "output_type": "stream",
     "text": [
      "7\n",
      "['A', 'I', 'I', 'A', 'A', 'U', 'O']\n"
     ]
    }
   ],
   "source": [
    "# 20. Write a Python program to count and display the vowels of a given text.\n",
    "#     Data:\n",
    "#         \"AIDINASAUR.COM\"\n",
    "#     Expected Output:\n",
    "#         7\n",
    "#         ['A', 'I', 'I', 'A', 'A', 'U', 'O']\n",
    "        \n",
    "text = \"AIDINASAUR.COM\"\n",
    "vowels = 'AEIOUaeiou'\n",
    "vowel_list = [char for char in text if char in vowels]\n",
    "print(len(vowel_list))\n",
    "print(vowel_list)         "
   ]
  }
 ],
 "metadata": {
  "kernelspec": {
   "display_name": "Python 3 (ipykernel)",
   "language": "python",
   "name": "python3"
  },
  "language_info": {
   "codemirror_mode": {
    "name": "ipython",
    "version": 3
   },
   "file_extension": ".py",
   "mimetype": "text/x-python",
   "name": "python",
   "nbconvert_exporter": "python",
   "pygments_lexer": "ipython3",
   "version": "3.12.7"
  }
 },
 "nbformat": 4,
 "nbformat_minor": 4
}
