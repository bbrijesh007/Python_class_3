{
 "cells": [
  {
   "cell_type": "markdown",
   "metadata": {},
   "source": [
    "# For Loop (Simple) - Questions"
   ]
  },
  {
   "cell_type": "code",
   "execution_count": 5,
   "metadata": {},
   "outputs": [
    {
     "name": "stdout",
     "output_type": "stream",
     "text": [
      "India\n",
      "Canada\n",
      "Sweden\n"
     ]
    }
   ],
   "source": [
    "#''' 1. Write a Python program to print expected output from the data given below.   \n",
    " #   Data:\n",
    "  # Expected Output:\n",
    "   # India\n",
    "    #Canada\n",
    "    #Sweden '''  \n",
    "\n",
    "country = [\"India\", \"Canada\", \"Sweden\"]\n",
    "for c in country:\n",
    "    print(c)"
   ]
  },
  {
   "cell_type": "code",
   "execution_count": 8,
   "metadata": {},
   "outputs": [
    {
     "name": "stdout",
     "output_type": "stream",
     "text": [
      "b\n",
      "a\n",
      "n\n",
      "a\n",
      "n\n",
      "a\n"
     ]
    }
   ],
   "source": [
    "#''' 2. Write a Python program to print expected output from the data given below. \n",
    " #   Data:\n",
    "  #       string = \"banana\"\n",
    "   # Expected Output: \n",
    "    #b\n",
    "    #a\n",
    "    #n\n",
    "    #a\n",
    "    #n\n",
    "    #a '''\n",
    "\n",
    "\n",
    "string = \"banana\"\n",
    "for char in string:\n",
    "    print(char)"
   ]
  },
  {
   "cell_type": "code",
   "execution_count": 10,
   "metadata": {},
   "outputs": [
    {
     "name": "stdout",
     "output_type": "stream",
     "text": [
      "India\n",
      "Canada\n"
     ]
    }
   ],
   "source": [
    "#''' 3. Write a Python program to print expected output using break statement from the data given below.    \n",
    " #   Data:\n",
    "  # Expected Output: \n",
    "   # India\n",
    "    #Canada '''\n",
    "country = [\"India\", \"Canada\", \"Sweden\"]\n",
    "for c in country:\n",
    "    if c == \"Sweden\":\n",
    "        break\n",
    "    print(c)"
   ]
  },
  {
   "cell_type": "code",
   "execution_count": 13,
   "metadata": {},
   "outputs": [
    {
     "name": "stdout",
     "output_type": "stream",
     "text": [
      "India\n",
      "Sweden\n"
     ]
    }
   ],
   "source": [
    "#''' 4. Write a Python program to print expected output using continue statement from the data given below.\n",
    " #   Data:\n",
    "  #      country = [\"India\", \"Canada\", \"Sweden\"]\n",
    "   # Expected Output: \n",
    "    #India\n",
    "    #Sweden '''\n",
    "country = [\"India\", \"Canada\", \"Sweden\"]\n",
    "\n",
    "for c in country:\n",
    "    if c == \"Canada\":\n",
    "        continue\n",
    "    print(c)"
   ]
  },
  {
   "cell_type": "code",
   "execution_count": null,
   "metadata": {},
   "outputs": [],
   "source": [
    "#5. Write a Python program to having an empty for loop like this, would raise an error without the pass statement.\n"
   ]
  },
  {
   "cell_type": "code",
   "execution_count": 14,
   "metadata": {},
   "outputs": [
    {
     "name": "stdout",
     "output_type": "stream",
     "text": [
      "0\n",
      "1\n",
      "2\n",
      "3\n",
      "4\n",
      "5\n"
     ]
    }
   ],
   "source": [
    "#''' 6. Write a Python program to print expected output using range in for loop.\n",
    "  #  Expected Output:\n",
    "    #0\n",
    "    #1\n",
    "    #2\n",
    "    #3\n",
    "    #4\n",
    "    #5 '''\n",
    "num=[0,1,2,3,4,5]\n",
    "for n in num:\n",
    "    print(n)"
   ]
  },
  {
   "cell_type": "code",
   "execution_count": 19,
   "metadata": {},
   "outputs": [
    {
     "name": "stdout",
     "output_type": "stream",
     "text": [
      "2\n",
      "3\n",
      "4\n",
      "5\n"
     ]
    }
   ],
   "source": [
    "# ''' 7. Write a Python program to print expected output by passing range parameters as (2, 6).\n",
    "#     Expected Output:\n",
    "#     2\n",
    "#     3\n",
    "#     4\n",
    "#     5 '''\n",
    "\n",
    "for i in range (2,6):\n",
    "    print(i)"
   ]
  },
  {
   "cell_type": "code",
   "execution_count": 25,
   "metadata": {},
   "outputs": [
    {
     "name": "stdout",
     "output_type": "stream",
     "text": [
      "2\n",
      "5\n",
      "8\n",
      "11\n",
      "14\n",
      "17\n",
      "20\n",
      "23\n",
      "26\n",
      "29\n"
     ]
    }
   ],
   "source": [
    "# '''8. Write a Python program to print expected output, range between 2 to 30 and increment the sequence by 3.\n",
    "#     Expected Output:\n",
    "#     2\n",
    "#     5\n",
    "#     8\n",
    "#     11\n",
    "#     14\n",
    "#     17\n",
    "#     20\n",
    "#     23\n",
    "#     26\n",
    "#     29 '''\n",
    "\n",
    "for n in range(2, 31, 3):\n",
    "    print(n)"
   ]
  },
  {
   "cell_type": "code",
   "execution_count": 40,
   "metadata": {},
   "outputs": [
    {
     "name": "stdout",
     "output_type": "stream",
     "text": [
      "0\n",
      "1\n",
      "2\n",
      "3\n",
      "4\n",
      "5\n",
      "Finally finished!\n"
     ]
    }
   ],
   "source": [
    "# ''' 9. Write a Python program to print all numbers from 0 to 5, and print a message when the loop has ended.\n",
    "#     Expected Output:\n",
    "#     0\n",
    "#     1\n",
    "#     2\n",
    "#     3\n",
    "#     4\n",
    "#     5\n",
    "#     Finally finished! '''\n",
    "for i in range(0,6):\n",
    "    print(i)\n",
    "print(\"Finally finished!\")"
   ]
  },
  {
   "cell_type": "code",
   "execution_count": 44,
   "metadata": {},
   "outputs": [
    {
     "name": "stdout",
     "output_type": "stream",
     "text": [
      "red apple\n",
      "red banana\n",
      "red cherry\n",
      "big apple\n",
      "big banana\n",
      "big cherry\n",
      "tasty apple\n",
      "tasty banana\n",
      "tasty cherry\n"
     ]
    }
   ],
   "source": [
    "# ''' 10. Write a Python program to print each adjective for every fruits using nested for loop from the data given below.\n",
    "#     Data:\n",
    "#         adjective = [\"red\", \"big\", \"tasty\"]\n",
    "#         fruits = [\"apple\", \"banana\", \"cherry\"]\n",
    "#     Expected Output:\n",
    "#         red apple\n",
    "#         red banana\n",
    "#         red cherry\n",
    "#         big apple\n",
    "#         big banana\n",
    "#         big cherry\n",
    "#         tasty apple\n",
    "#         tasty banana\n",
    "#         tasty cherry '''\n",
    "\n",
    "adjective = [\"red\", \"big\", \"tasty\"]\n",
    "fruits = [\"apple\", \"banana\", \"cherry\"]\n",
    "for adj in adjective:\n",
    "    for fruit in fruits:\n",
    "        print(f\"{adj} {fruit}\")"
   ]
  },
  {
   "cell_type": "code",
   "execution_count": 49,
   "metadata": {},
   "outputs": [
    {
     "name": "stdout",
     "output_type": "stream",
     "text": [
      "{'x': [1, 2, 3], 'y': [1, 2], 'z': [1]}\n"
     ]
    }
   ],
   "source": [
    "# ''' 11. Write a Python program to convert list of tuples into dictionary using setdefault() method.\n",
    "#     Data:\n",
    "#         l = [(\"x\", 1), (\"x\", 2), (\"x\", 3), (\"y\", 1), (\"y\", 2), (\"z\", 1)]\n",
    "#     Expected Output:\n",
    "#         {'x': [1, 2, 3], 'y': [1, 2], 'z': [1]} '''\n",
    "\n",
    "l = [(\"x\", 1), (\"x\", 2), (\"x\", 3), (\"y\", 1), (\"y\", 2), (\"z\", 1)]\n",
    "result = {}\n",
    "for key, value in l:\n",
    "    result.setdefault(key, []).append(value)\n",
    "print(result)"
   ]
  },
  {
   "cell_type": "code",
   "execution_count": 50,
   "metadata": {},
   "outputs": [
    {
     "name": "stdout",
     "output_type": "stream",
     "text": [
      "3\n"
     ]
    }
   ],
   "source": [
    "# ''' 12. Write a Python program to print the count of no. of elements in a list until an element in a list is a tuple using isinstance() method.\n",
    "#     Data:\n",
    "#         x = [10,20,30,(10,20),40]\n",
    "#     Expected Output: 3 '''\n",
    "\n",
    "x = [10, 20, 30, (10, 20), 40]\n",
    "count = 0\n",
    "for item in x:\n",
    "    if isinstance(item, tuple):\n",
    "        break\n",
    "    count += 1\n",
    "print(count)"
   ]
  },
  {
   "cell_type": "code",
   "execution_count": 53,
   "metadata": {},
   "outputs": [
    {
     "name": "stdout",
     "output_type": "stream",
     "text": [
      "0 5\n",
      "1 15\n",
      "2 35\n",
      "3 8\n",
      "4 98\n"
     ]
    }
   ],
   "source": [
    "# ''' 13. Write a Python program to access the index of elements in a list. \n",
    "#     Data:\n",
    "#         x = [5, 15, 35, 8, 98]\n",
    "#     Expected Output:\n",
    "#         0 5\n",
    "#         1 15\n",
    "#         2 35\n",
    "#         3 8\n",
    "#         4 98 '''\n",
    "\n",
    "x = [5, 15, 35, 8, 98]\n",
    "for index, value in enumerate(x):\n",
    "    print(index, value)"
   ]
  },
  {
   "cell_type": "code",
   "execution_count": 54,
   "metadata": {},
   "outputs": [
    {
     "name": "stdout",
     "output_type": "stream",
     "text": [
      "{'1': [], '2': [], '3': [], '4': [], '5': [], '6': [], '7': [], '8': [], '9': [], '10': []}\n"
     ]
    }
   ],
   "source": [
    "# ''' 14. Write a Python program to create multiple lists.\n",
    "#     Expected output:\n",
    "#         {'1': [], '2': [], '3': [], '4': [], '5': [], '6': [], '7': [], '8': [], '9': [], '10': []} '''\n",
    "\n",
    "lists = {str(i): [] for i in range(1, 11)}\n",
    "print(lists)"
   ]
  },
  {
   "cell_type": "code",
   "execution_count": 55,
   "metadata": {},
   "outputs": [
    {
     "name": "stdout",
     "output_type": "stream",
     "text": [
      "[{}, {}, {}, {}, {}]\n"
     ]
    }
   ],
   "source": [
    "# ''' 15. Write a Python program to create a list of empty dictionaries.\n",
    "#     Data:\n",
    "#         n = 5\n",
    "#     Expected Output:\n",
    "#         [{}, {}, {}, {}, {}] '''\n",
    "        \n",
    "n = 5\n",
    "empty_dicts = [{} for _ in range(n)]\n",
    "print(empty_dicts)"
   ]
  },
  {
   "cell_type": "code",
   "execution_count": 58,
   "metadata": {},
   "outputs": [
    {
     "name": "stdout",
     "output_type": "stream",
     "text": [
      "1 boss\n",
      "2 sai\n",
      "3 bala\n"
     ]
    }
   ],
   "source": [
    "# ''' 16. Write a Python program to iterate over two lists simultaneously.\n",
    "#     Data:\n",
    "#         x = [1, 2, 3]\n",
    "#         name = ['boss', 'sai', 'bala']\n",
    "#     Expected Output:\n",
    "#         1 boss\n",
    "#         2 sai\n",
    "#         3 bala '''\n",
    "x = [1, 2, 3]\n",
    "name = ['boss', 'sai', 'bala']\n",
    "for num, n in zip(x, name):\n",
    "    print(num, n)   "
   ]
  },
  {
   "cell_type": "code",
   "execution_count": 60,
   "metadata": {},
   "outputs": [
    {
     "name": "stdout",
     "output_type": "stream",
     "text": [
      "boss\n",
      "sai\n",
      "bala\n"
     ]
    }
   ],
   "source": [
    "# ''' 17. Write a Python program print all elements of the list using for loop and range().\n",
    "#     Data:\n",
    "#         name = ['boss', 'sai', 'bala']\n",
    "#     Expected Output:\n",
    "#         boss\n",
    "#         sai\n",
    "#         bala '''\n",
    "name = ['boss', 'sai', 'bala']\n",
    "for i in range(len(name)):\n",
    "    print(name[i]) "
   ]
  },
  {
   "cell_type": "code",
   "execution_count": 61,
   "metadata": {},
   "outputs": [
    {
     "name": "stdout",
     "output_type": "stream",
     "text": [
      "HelloWorld"
     ]
    }
   ],
   "source": [
    "# 18. Write a Python program to print without newline or space.\n",
    "print(\"HelloWorld\", end=\"\")"
   ]
  },
  {
   "cell_type": "code",
   "execution_count": 62,
   "metadata": {},
   "outputs": [
    {
     "name": "stdout",
     "output_type": "stream",
     "text": [
      "President 1: suresh\n",
      "President 2: boss\n",
      "President 3: siva\n",
      "President 4: bala\n",
      "President 5: sai\n",
      "President 6: balu\n",
      "President 7: karthi\n"
     ]
    }
   ],
   "source": [
    "# ''' 19. Write a Python program to print expected output using enumerate() from the data given below.\n",
    "#     Data:\n",
    "#         x = [\"suresh\", \"boss\", \"siva\", \"bala\", \"sai\", \"balu\", \"karthi\"] \n",
    "#     Expected Output:\n",
    "#         President 1: suresh\n",
    "#         President 2: boss\n",
    "#         President 3: siva\n",
    "#         President 4: bala\n",
    "#         President 5: sai\n",
    "#         President 6: balu\n",
    "#         President 7: karthi '''\n",
    "\n",
    "x = [\"suresh\", \"boss\", \"siva\", \"bala\", \"sai\", \"balu\", \"karthi\"]\n",
    "for idx, name in enumerate(x, start=1):\n",
    "    print(f\"President {idx}: {name}\")"
   ]
  },
  {
   "cell_type": "code",
   "execution_count": 63,
   "metadata": {},
   "outputs": [
    {
     "name": "stdout",
     "output_type": "stream",
     "text": [
      "20.0% suresh\n",
      "30.0% boss\n",
      "50.0% siva\n",
      "40.0% bala\n"
     ]
    }
   ],
   "source": [
    "# ''' 20. Write a Python program to print expected output using enumerate() from the data given below.\n",
    "#     Data:\n",
    "#         name = [\"suresh\", \"boss\", \"siva\", \"bala\"]\n",
    "#         ratios = [0.2, 0.3, 0.1, 0.4]\n",
    "#     Expected Output:\n",
    "#         20.0% suresh\n",
    "#         30.0% boss\n",
    "#         50.0% siva\n",
    "#         40.0% bala '''\n",
    "\n",
    "name = [\"suresh\", \"boss\", \"siva\", \"bala\"]\n",
    "ratios = [0.2, 0.3, 0.5, 0.4]\n",
    "\n",
    "for i, (n, r) in enumerate(zip(name, ratios)):\n",
    "    print(f\"{r*100:.1f}% {n}\")"
   ]
  }
 ],
 "metadata": {
  "kernelspec": {
   "display_name": "Python 3 (ipykernel)",
   "language": "python",
   "name": "python3"
  },
  "language_info": {
   "codemirror_mode": {
    "name": "ipython",
    "version": 3
   },
   "file_extension": ".py",
   "mimetype": "text/x-python",
   "name": "python",
   "nbconvert_exporter": "python",
   "pygments_lexer": "ipython3",
   "version": "3.12.7"
  }
 },
 "nbformat": 4,
 "nbformat_minor": 4
}
